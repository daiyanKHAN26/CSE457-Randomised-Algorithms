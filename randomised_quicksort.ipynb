{
  "nbformat": 4,
  "nbformat_minor": 0,
  "metadata": {
    "colab": {
      "name": "randomised_quicksort.ipynb",
      "provenance": [],
      "authorship_tag": "ABX9TyPUSKXDl0+GXFX3TuJw55aX",
      "include_colab_link": true
    },
    "kernelspec": {
      "name": "python3",
      "display_name": "Python 3"
    },
    "language_info": {
      "name": "python"
    }
  },
  "cells": [
    {
      "cell_type": "markdown",
      "metadata": {
        "id": "view-in-github",
        "colab_type": "text"
      },
      "source": [
        "<a href=\"https://colab.research.google.com/github/daiyanKHAN26/CSE457-Randomised-Algorithms/blob/main/randomised_quicksort.ipynb\" target=\"_parent\"><img src=\"https://colab.research.google.com/assets/colab-badge.svg\" alt=\"Open In Colab\"/></a>"
      ]
    },
    {
      "cell_type": "markdown",
      "metadata": {
        "id": "FiYlf4CNfoSz"
      },
      "source": [
        "# ***Randomised Quicksort Algorithm***"
      ]
    },
    {
      "cell_type": "markdown",
      "metadata": {
        "id": "dWSCLKZFfvlD"
      },
      "source": [
        "## ***What is quicksort?***\n",
        "We know that a quicksort algorithm is an efficient sorting algorithm that partitions an array into smaller arrays after a ***pivot*** is selected (usually the *first, last, or median* element of the array). \n",
        "\n",
        "It calls itself recursively to sort the subsequent arrays that are formed in relation to the chosen pivot value. The values less than the pivot are set to the left of the pivot, and the values larger than the pivot are set to its right. This continues until the whole array is sorted."
      ]
    },
    {
      "cell_type": "markdown",
      "metadata": {
        "id": "z6upRPH4hwMB"
      },
      "source": [
        "## ***What is Randomised Quicksort?***\n",
        "Randomised quicksort is when a *random value* from the array is chosen as a pivot to sort the array using the quicksort algorithm."
      ]
    },
    {
      "cell_type": "markdown",
      "metadata": {
        "id": "qeFdJ9HD7tbZ"
      },
      "source": [
        "## ***Code Summary***\n",
        "1. The code below will first take a user input to define the range *'r'* and length *'s'* that will be used to create a randomised array of length *s* that consists of unique integers between the range 0 to *r* (no repetition of integer values).\n",
        "\n",
        "2. It will then pick a random value from the newly created *unsorted* array to be used as a pivot for quicksorting. The initial array is split into two seperate arrays that will seperately hold values that are less than and greater than the chosen pivot value, respectively.\n",
        "\n",
        "3. Quicksort will be applied on the splitted arrays and it will continue recursively calling itself till the entire original array is sorted. Meanwhile printing how many comparisons were required to sort each splitted array using the chosen pivot.\n",
        "\n",
        "3. Finally, will print the sorted array and the total number of comparisons required to sort the array entirely."
      ]
    },
    {
      "cell_type": "code",
      "metadata": {
        "id": "7Id8ohcfBdSY"
      },
      "source": [
        "# Import neccessary libraries and setup global variables\n",
        "\n",
        "import time\n",
        "import random\n",
        "import numpy as np\n",
        "from numpy.random import default_rng\n",
        "\n",
        "# A global variable 'totalCom' is set up to keep\n",
        "# track of total number of comparisons made to \n",
        "# sort the array using quicksort\n",
        "totalCom = 0"
      ],
      "execution_count": 149,
      "outputs": []
    },
    {
      "cell_type": "markdown",
      "metadata": {
        "id": "02US-4dg4kDV"
      },
      "source": [
        "### ***Random Number Generator***\n",
        "\n",
        "A random number generator '*rng*' is set up in the driver code to create an array that consists of a user defined length, with a range of integer values starting 0 to n."
      ]
    },
    {
      "cell_type": "code",
      "metadata": {
        "colab": {
          "base_uri": "https://localhost:8080/"
        },
        "id": "A3UrXW-LP2IZ",
        "outputId": "9f056a29-fcee-4483-e648-59afe7a596ef"
      },
      "source": [
        "# Random Number Array generator:\n",
        "# Generate an array of unique random numbers \n",
        "# between range 0 to n-1, array length = size,\n",
        "# set replace==false to get unique values\n",
        "\n",
        "print('# Random Array Generator #')\n",
        "rng = default_rng()\n",
        "n = int(input('Enter end value of range: '))\n",
        "s = int(input('Enter length of array: '))\n",
        "array = rng.choice(n+1, size=s, replace=False) \n",
        "print('\\nUnsorted array :',array)"
      ],
      "execution_count": 150,
      "outputs": [
        {
          "output_type": "stream",
          "name": "stdout",
          "text": [
            "# Random Array Generator #\n",
            "Enter end value of range: 100\n",
            "Enter length of array: 20\n",
            "\n",
            "Unsorted array : [100   2  36  76  33  72  51  48  69  29  96  22  19   9  30  62  11  45\n",
            "  99  73]\n"
          ]
        }
      ]
    },
    {
      "cell_type": "markdown",
      "metadata": {
        "id": "xmW-i8-zhjt-"
      },
      "source": [
        "## ***Code Description***\n",
        "The code below consists of three (3) main methods:\n",
        "\n",
        "*   quicksort( )\n",
        "*   rand( )\n",
        "*   partition( )\n",
        "\n",
        "\n"
      ]
    },
    {
      "cell_type": "markdown",
      "metadata": {
        "id": "QlxTc1gaBE2X"
      },
      "source": [
        "### ***quicksort( )*** \n",
        "\n",
        "> This method is created to implement the quicksort algorithm. It takes 3 inputs: an array '*a*', a variable to store the starting index value of the array '*i*', and a variable to store the ending index value of the array '*j*'.\n",
        "\n",
        "> A pivot index value '*p_ind*' is set to find the index value of the pivot in the array\n",
        "\n",
        "> The original array is split into two arrays.\n",
        "\n",
        "> The array is first partially sorted around the chosen pivot, with *values < pivot* and *values > pivot* being seperated and stored in the two split arrays.\n",
        "\n"
      ]
    },
    {
      "cell_type": "code",
      "metadata": {
        "id": "_Ta8mDBaBpcX"
      },
      "source": [
        "# Quicksort Algorithm:\n",
        "# Method is defined to implement quicksort algorithm\n",
        "# where it takes 3 inputs = array (a), starting index\n",
        "# of array (i), ending index of array (j)\n",
        "def quicksort(a, i, j):\n",
        "    if i < j:\n",
        "\n",
        "      # index position of the pivot relative to the array\n",
        "        p_ind = rand(a, i, j)\n",
        "\n",
        "      # Array is split into two halves, and theLeft and \n",
        "      # right halves of the array are sorted seperately,\n",
        "      # giving us a partially sorted array\n",
        "        quicksort(a, i, p_ind - 1)\n",
        "        quicksort(a, p_ind + 1, j)"
      ],
      "execution_count": 151,
      "outputs": []
    },
    {
      "cell_type": "markdown",
      "metadata": {
        "id": "AOLhzFs4BOJ6"
      },
      "source": [
        "### ***rand( )***\n",
        "\n",
        "> This method is used to choose a *random number* from the array to use as a *pivot*.\n",
        "\n",
        "> This method then swaps the *chosen pivot value* with the *first index value* of the array to begin the quicksort algorithm."
      ]
    },
    {
      "cell_type": "code",
      "metadata": {
        "id": "vjaNzaYpBsQ2"
      },
      "source": [
        "# Random Pivot Generator:\n",
        "# Method to pick a random pivot value, and set as\n",
        "# first element of array to sort\n",
        "def rand(a, i, j):\n",
        "\n",
        "  # Pick a random number between array range i to j\n",
        "    pivot = random.randrange(i, j)\n",
        "\n",
        "  # swap pivot value with current first index value\n",
        "  # and call partition method\n",
        "    (a[i], a[pivot]) = (a[pivot], a[i])\n",
        "    return partition(a, i, j)"
      ],
      "execution_count": 152,
      "outputs": []
    },
    {
      "cell_type": "markdown",
      "metadata": {
        "id": "ojQUZOdpBRED"
      },
      "source": [
        "### ***partition( )***\n",
        "> This method carries out the sorting. As the ***rand( )*** method has already set the first value in the array to be the pivot value, the ***partition( )*** method carries out a quicksort algorithm as usual.\n",
        "\n",
        "> a variable '*x*' is set up to record where the partition begins in the array. A for loop runs from the beginning till the end of the array. If the current value in the loop is less than or equal to the pivot value, it is shifted to the left of the pivot.\n",
        "\n",
        "> Else (if the value is greater than pivot) it is left as is, which will always be on the right of the pivot as the pivot has been set as the first value of the array, and the values shifted to the left of the array are only those that are smaller than or equal to the pivot.\n",
        "\n",
        "> For every pivot chosen, the number of comparisons made between values in the array after using the chosen pivot will be printed."
      ]
    },
    {
      "cell_type": "code",
      "metadata": {
        "id": "1nBQ1soLB2OC"
      },
      "source": [
        "# Partition: \n",
        "# Method to partition arrays. Values smaller than chosen\n",
        "# pivot is stored in the array on the left of the pivot,\n",
        "# and values larger than pivot are stored on its right.\n",
        "# Total number of comparisons is incremented for every \n",
        "# comparison made between array values.\n",
        "def partition(a, i, j):\n",
        "    global totalCom\n",
        "    pivot = i\n",
        "    print('Pivot = ', a[pivot]) # print chosen pivot value\n",
        "    count = 0\n",
        "    x = i + 1 # array start position\n",
        "\n",
        "    # if current index value is less than or equal\n",
        "    # to pivot value, then shift to left of partition\n",
        "    for j in range(i + 1, j + 1):\n",
        "        if a[j] <= a[pivot]:\n",
        "            (a[x], a[j]) = (a[j], a[x])\n",
        "            x = x + 1\n",
        "            count += 1\n",
        "\n",
        "    # print the number of comparisons \n",
        "    # every time a new pivot is picked        \n",
        "    print ('No. of comparisons:', count)\n",
        "    totalCom += count\n",
        "    (a[pivot], a[x - 1]) = (a[x - 1], a[pivot])\n",
        "    pivot = x - 1\n",
        "    return (pivot)"
      ],
      "execution_count": 153,
      "outputs": []
    },
    {
      "cell_type": "markdown",
      "metadata": {
        "id": "AooZL-k5Cn8w"
      },
      "source": [
        "## ***Run Random Quicksort on unsorted array***"
      ]
    },
    {
      "cell_type": "code",
      "metadata": {
        "colab": {
          "base_uri": "https://localhost:8080/"
        },
        "id": "NPyPJBcoCEh6",
        "outputId": "404dfb65-f801-48a1-e340-fd4912d9d49c"
      },
      "source": [
        "# Begin quicksort algorithm\n",
        "print('\\n **** Start Quicksort ****')\n",
        "time.sleep(1)\n",
        "quicksort(array, 0, len(array) - 1)\n",
        "print('\\n')\n",
        "print('Sorted array: ',array)\n",
        "print('Total no. of comparisons: ',totalCom)"
      ],
      "execution_count": 154,
      "outputs": [
        {
          "output_type": "stream",
          "name": "stdout",
          "text": [
            "\n",
            " **** Start Quicksort ****\n",
            "Pivot =  62\n",
            "No. of comparisons: 12\n",
            "Pivot =  19\n",
            "No. of comparisons: 3\n",
            "Pivot =  2\n",
            "No. of comparisons: 0\n",
            "Pivot =  11\n",
            "No. of comparisons: 1\n",
            "Pivot =  22\n",
            "No. of comparisons: 0\n",
            "Pivot =  30\n",
            "No. of comparisons: 1\n",
            "Pivot =  51\n",
            "No. of comparisons: 4\n",
            "Pivot =  45\n",
            "No. of comparisons: 2\n",
            "Pivot =  36\n",
            "No. of comparisons: 1\n",
            "Pivot =  76\n",
            "No. of comparisons: 3\n",
            "Pivot =  73\n",
            "No. of comparisons: 2\n",
            "Pivot =  69\n",
            "No. of comparisons: 0\n",
            "Pivot =  100\n",
            "No. of comparisons: 2\n",
            "Pivot =  96\n",
            "No. of comparisons: 0\n",
            "\n",
            "\n",
            "Sorted array:  [  2   9  11  19  22  29  30  33  36  45  48  51  62  69  72  73  76  96\n",
            "  99 100]\n",
            "Total no. of comparisons:  31\n"
          ]
        }
      ]
    }
  ]
}